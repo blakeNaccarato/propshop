{
 "cells": [
  {
   "cell_type": "code",
   "execution_count": null,
   "metadata": {},
   "outputs": [],
   "source": [
    "import pandas as pd\n",
    "import numpy as np\n",
    "from propshop import get_prop\n",
    "from propshop.library import Mat, Prop"
   ]
  },
  {
   "cell_type": "code",
   "execution_count": null,
   "metadata": {},
   "outputs": [],
   "source": [
    "TEMP = \"Temperature\"\n",
    "THERM_COND = \"Thermal Conductivity\"\n",
    "units = {TEMP: \"K\", THERM_COND: \"W/m-K\"}\n",
    "temperatures = np.arange(300, 500)\n",
    "\n",
    "df = pd.DataFrame(\n",
    "    columns=[TEMP, THERM_COND],\n",
    "    data={\n",
    "        TEMP: temperatures,\n",
    "        THERM_COND: get_prop(\n",
    "            Mat.COPPER, Prop.THERMAL_CONDUCTIVITY, temperatures\n",
    "        ),\n",
    "    },\n",
    ")\n",
    "\n",
    "df\n"
   ]
  }
 ],
 "metadata": {
  "interpreter": {
   "hash": "54b15c35df4e3193be8e8524ab91ca003ef428ff309c7b6659e7147c608421c3"
  },
  "kernelspec": {
   "display_name": "Python 3.10.2 ('.venv': venv)",
   "language": "python",
   "name": "python3"
  },
  "language_info": {
   "codemirror_mode": {
    "name": "ipython",
    "version": 3
   },
   "file_extension": ".py",
   "mimetype": "text/x-python",
   "name": "python",
   "nbconvert_exporter": "python",
   "pygments_lexer": "ipython3",
   "version": "3.10.2"
  },
  "orig_nbformat": 4
 },
 "nbformat": 4,
 "nbformat_minor": 2
}
